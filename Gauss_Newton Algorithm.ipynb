{
 "cells": [
  {
   "cell_type": "code",
   "execution_count": 1,
   "metadata": {},
   "outputs": [],
   "source": [
    "import math\n",
    "import numpy as np\n",
    "\n",
    "import warnings\n",
    "warnings.filterwarnings(\"ignore\", category=DeprecationWarning)\n",
    "\n",
    "import warnings\n",
    "# ignore warnings\n",
    "warnings.filterwarnings(\"ignore\")"
   ]
  },
  {
   "cell_type": "code",
   "execution_count": 2,
   "metadata": {},
   "outputs": [],
   "source": [
    "Q = [31.612, 44.314, 56.287, 70.265]\n",
    "Pwf = [4258.3, 4190.4, 4093.5, 3951.9]"
   ]
  },
  {
   "cell_type": "code",
   "execution_count": 3,
   "metadata": {},
   "outputs": [
    {
     "name": "stdout",
     "output_type": "stream",
     "text": [
      "Make an initial guess for reservoir pressure : 4350\n",
      "Make an initial guess for flow coefficient(C) : 0.0376\n",
      "Make an initial guess for flow exponent(n) : 0.5\n"
     ]
    }
   ],
   "source": [
    "k = 0      # iteration counter\n",
    "Pr = float(input('Make an initial guess for reservoir pressure : '))\n",
    "C = float(input('Make an initial guess for flow coefficient(C) : '))\n",
    "n = float(input('Make an initial guess for flow exponent(n) : '))\n",
    "h = C"
   ]
  },
  {
   "cell_type": "code",
   "execution_count": 4,
   "metadata": {},
   "outputs": [
    {
     "name": "stdout",
     "output_type": "stream",
     "text": [
      "The estimated Reservoir Pressure is: [4322.84273657]\n",
      "The estimated flow coefficient(C)  is: [0.06813622]\n",
      "The estimated flow exponent(n)  is: [0.46442311]\n",
      "The solution was obtained after 11 iterations\n"
     ]
    }
   ],
   "source": [
    "while abs(h/C)*100 >= 10**-10:\n",
    "    part_der_Pr = []\n",
    "    for i in Pwf:\n",
    "        part_der_Pr.append(2 * Pr * n * C * (Pr**2 - i**2)**(n-1))\n",
    "        \n",
    "    part_der_C = []\n",
    "    for i in Pwf:\n",
    "        part_der_C.append((Pr**2 - i**2)**n)\n",
    "        \n",
    "    part_der_n = []\n",
    "    for i in Pwf:\n",
    "        part_der_n.append(C * (Pr**2 - i**2)**n * np.log(C * (Pr**2 - i**2)))\n",
    "    \n",
    "    X = np.zeros([4,3])\n",
    "    X[:, 0] = part_der_Pr\n",
    "    X[:, 1] = part_der_C\n",
    "    X[:, 2] = part_der_n\n",
    "    \n",
    "    d = []\n",
    "    for a,b in zip(Q, Pwf):\n",
    "        d.append(a - C*(Pr**2 - b**2)**n)\n",
    "    \n",
    "    y = np.zeros([4,1])\n",
    "    y[:, 0] = d\n",
    "    \n",
    "    test = np.linalg.det(np.linalg.inv(np.matmul(X.T, X))) \n",
    "    if math.isnan(test):\n",
    "        print('Solution did not converge due to the occurrence of singular matrix')\n",
    "        print('Please make better guesses')\n",
    "        break\n",
    "        \n",
    "    else:\n",
    "        beta = np.matmul(np.linalg.inv(np.matmul(X.T, X)),  np.matmul(X.T, y))\n",
    "    \n",
    "                     \n",
    "        Pr += beta[0]\n",
    "        C +=  beta[1]\n",
    "        n += beta[2]\n",
    "        h = beta[1]\n",
    "        k += 1\n",
    "\n",
    "        \n",
    "if math.isnan(test):\n",
    "    pass\n",
    "else:\n",
    "    print('The estimated Reservoir Pressure is: {}' .format((Pr + beta[0])))\n",
    "    print('The estimated flow coefficient(C)  is: {}' .format((C + beta[1])))\n",
    "    print('The estimated flow exponent(n)  is: {}' .format((n + beta[2])))\n",
    "    print('The solution was obtained after ' + str(k) + ' iterations')"
   ]
  },
  {
   "cell_type": "code",
   "execution_count": 6,
   "metadata": {},
   "outputs": [
    {
     "data": {
      "image/png": "[encoded data removed]",
      "text/plain": [
       "<matplotlib.figure.Figure at 0x232bc646668>"
      ]
     },
     "metadata": {},
     "output_type": "display_data"
    }
   ],
   "source": [
    "import matplotlib.pyplot as plt\n",
    "\n",
    "assumed_Pwf = []\n",
    "for i in list(range (0, (int(Pr) + 100), 50)):\n",
    "    assumed_Pwf.append(i)\n",
    "    \n",
    "estimated_Q = []\n",
    "for i in assumed_Pwf:\n",
    "    estimated_Q.append(C * (Pr**2 - i**2)**n)\n",
    "\n",
    "plt.scatter(estimated_Q, assumed_Pwf)\n",
    "plt.xlabel('Flow rates in MMSCF/D')\n",
    "plt.ylabel('Bottom hole flowing pressure in Psi')\n",
    "plt.title('Inflow Performance Relationship')\n",
    "plt.savefig('Gauss_Newton_IPR.png')\n",
    "plt.show() "
   ]
  },
  {
   "cell_type": "code",
   "execution_count": null,
   "metadata": {},
   "outputs": [],
   "source": []
  }
 ],
 "metadata": {
  "kernelspec": {
   "display_name": "Python 3",
   "language": "python",
   "name": "python3"
  },
  "language_info": {
   "codemirror_mode": {
    "name": "ipython",
    "version": 3
   },
   "file_extension": ".py",
   "mimetype": "text/x-python",
   "name": "python",
   "nbconvert_exporter": "python",
   "pygments_lexer": "ipython3",
   "version": "3.6.4"
  }
 },
 "nbformat": 4,
 "nbformat_minor": 2
}
